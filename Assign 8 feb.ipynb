{
 "cells": [
  {
   "cell_type": "code",
   "execution_count": 1,
   "id": "2f7a8a70-2975-464e-8814-0bdb39701569",
   "metadata": {},
   "outputs": [],
   "source": [
    "#Q.1 What is Abstraction in OOps? Explain with an example."
   ]
  },
  {
   "cell_type": "code",
   "execution_count": 9,
   "id": "0bf435be-6223-4d3a-860f-6b4260f256e0",
   "metadata": {},
   "outputs": [
    {
     "name": "stdout",
     "output_type": "stream",
     "text": [
      "The mileage is 30kmph\n",
      "The mileage is 27kmph \n",
      "The mileage is 25kmph \n",
      "The mileage is 24kmph \n"
     ]
    }
   ],
   "source": [
    "# Ans. Abstraction is the process of hiding the internal details of an application from the outer world. Abstraction is used to describe things in simple terms. It’s used to create a boundary between the application and the client programs.\n",
    "\n",
    "from abc import ABC  # Abstract method\n",
    "class Car(ABC):   \n",
    "    def mileage(self):   \n",
    "        pass  \n",
    "class Tesla(Car):   \n",
    "    def mileage(self):   \n",
    "        print(\"The mileage is 30kmph\")   \n",
    "class Suzuki(Car):   \n",
    "    def mileage(self):   \n",
    "        print(\"The mileage is 25kmph \")   \n",
    "class Duster(Car):   \n",
    "     def mileage(self):   \n",
    "            print(\"The mileage is 24kmph \")   \n",
    "class Renault(Car):   \n",
    "    def mileage(self):   \n",
    "            print(\"The mileage is 27kmph \")   \n",
    "# Driver code   \n",
    "t= Tesla ()   \n",
    "t.mileage()   \n",
    "  \n",
    "r = Renault()   \n",
    "r.mileage()   \n",
    "  \n",
    "s = Suzuki()   \n",
    "s.mileage()   \n",
    "d = Duster()   \n",
    "d.mileage()  \n",
    "\n",
    "    "
   ]
  },
  {
   "cell_type": "code",
   "execution_count": 10,
   "id": "bbadc48f-6113-444d-929b-c298001d60b6",
   "metadata": {},
   "outputs": [],
   "source": [
    "# Q.2: Differentiate between Abstraction and Encapsulation. Explain with an example.\n",
    "\n"
   ]
  },
  {
   "cell_type": "code",
   "execution_count": 11,
   "id": "3e2d3bd4-d95c-4245-9d93-c64f9d99418a",
   "metadata": {},
   "outputs": [
    {
     "name": "stdout",
     "output_type": "stream",
     "text": [
      "Calling protected member of base class:  2\n",
      "Calling modified protected member outside class:  3\n",
      "Accessing protected member of obj1:  3\n",
      "Accessing protected member of obj2:  2\n"
     ]
    }
   ],
   "source": [
    "# Ans. Abstraction is a process of hiding the implementation details of a system from the user, and only the functional details will be available to the user end. On the other hand, Encapsulation is a method of wrapping up the data and code acting on the data into a single unit.\n",
    "# Python program to\n",
    "# demonstrate protected members\n",
    "  \n",
    "# Creating a base class\n",
    "class Base:\n",
    "    def __init__(self):\n",
    "  \n",
    "        # Protected member\n",
    "        self._a = 2\n",
    "# Creating a derived class\n",
    "class Derived(Base):\n",
    "    def __init__(self):\n",
    "  \n",
    "        # Calling constructor of\n",
    "        # Base class\n",
    "        Base.__init__(self)\n",
    "        print(\"Calling protected member of base class: \", \n",
    "              self._a)\n",
    "  \n",
    "        # Modify the protected variable:\n",
    "        self._a = 3\n",
    "        print(\"Calling modified protected member outside class: \",\n",
    "              self._a)\n",
    "  \n",
    "  \n",
    "obj1 = Derived()\n",
    "  \n",
    "obj2 = Base()\n",
    "  \n",
    "# Calling protected member\n",
    "# Can be accessed but should not be done due to convention\n",
    "print(\"Accessing protected member of obj1: \", obj1._a)\n",
    "  \n",
    "# Accessing the protected variable outside\n",
    "print(\"Accessing protected member of obj2: \", obj2._a)"
   ]
  },
  {
   "cell_type": "code",
   "execution_count": 12,
   "id": "bc4fcf5f-f910-48f3-a747-f55f2e010653",
   "metadata": {},
   "outputs": [],
   "source": [
    "# Q.3: What is abc module in python? Why is it used?"
   ]
  },
  {
   "cell_type": "code",
   "execution_count": 14,
   "id": "fc61282a-3111-48dc-b6f1-1cb58f43c707",
   "metadata": {},
   "outputs": [
    {
     "name": "stdout",
     "output_type": "stream",
     "text": [
      "Some implementation!\n",
      "The enrichment from AnotherSubclass\n"
     ]
    }
   ],
   "source": [
    "# Ans. The 'abc' module in the Python library provides the infrastructure for defining custom abstract base classes. Abstract class cannot be instantiated in python. An Abstract method can be call by its subclasses.\n",
    "\n",
    "from abc import ABC, abstractmethod\n",
    " \n",
    "class AbstractClassExample(ABC):\n",
    "    \n",
    "    @abstractmethod\n",
    "    def do_something(self):\n",
    "        print(\"Some implementation!\")\n",
    "        \n",
    "class AnotherSubclass(AbstractClassExample):\n",
    "\n",
    "    def do_something(self):\n",
    "        super().do_something()\n",
    "        print(\"The enrichment from AnotherSubclass\")\n",
    "        \n",
    "x = AnotherSubclass()\n",
    "x.do_something()"
   ]
  },
  {
   "cell_type": "code",
   "execution_count": 15,
   "id": "0915bbc3-efa5-4825-a92b-b5da0edf6de6",
   "metadata": {},
   "outputs": [],
   "source": [
    "# Q.5: How can we achieve data abstraction?"
   ]
  },
  {
   "cell_type": "code",
   "execution_count": 22,
   "id": "29940f9b-1226-4fde-99cf-d65224f37c9a",
   "metadata": {},
   "outputs": [
    {
     "name": "stdout",
     "output_type": "stream",
     "text": [
      "In the abstract method of Child1\n",
      "In the abstract method of Child2\n",
      "In the common method of Parent\n"
     ]
    }
   ],
   "source": [
    "# Ans. Data Abstraction in Python can be achieved through creating abstract classes and inheriting them later.\n",
    "\n",
    "from abc import ABC, abstractmethod\n",
    "\n",
    "class Parent(ABC):\n",
    "  #common function\n",
    "  def common_fn(self):\n",
    "    print('In the common method of Parent')\n",
    "    @abstractmethod\n",
    "    def abs_fn(self): #is supposed to have different implementation in child classes \n",
    "        pass\n",
    "\n",
    "class Child1(Parent):\n",
    "    def abs_fn(self):\n",
    "        print('In the abstract method of Child1')\n",
    "\n",
    "class Child2(Parent):\n",
    "    def abs_fn(self):\n",
    "        print('In the abstract method of Child2')\n",
    "        \n",
    "a = Child1()\n",
    "a.abs_fn()\n",
    "b = Child2()\n",
    "b.abs_fn()\n",
    "b.common_fn()"
   ]
  },
  {
   "cell_type": "code",
   "execution_count": null,
   "id": "339c3b0c-2fac-438f-b570-f5c39aee9b10",
   "metadata": {},
   "outputs": [],
   "source": [
    "# Q.5: Can we create an instance of an abstract class? Explain your answer."
   ]
  },
  {
   "cell_type": "code",
   "execution_count": null,
   "id": "4e81d665-756d-4329-9d57-6a20e0e71bb4",
   "metadata": {},
   "outputs": [],
   "source": [
    "# Abstract classes cannot be instantiated, but they can be subclassed. When an abstract class is subclassed, the subclass usually provides implementations for all of the abstract methods in its parent class. However, if it does not, then the subclass must also be declared abstract\n"
   ]
  }
 ],
 "metadata": {
  "kernelspec": {
   "display_name": "Python 3 (ipykernel)",
   "language": "python",
   "name": "python3"
  },
  "language_info": {
   "codemirror_mode": {
    "name": "ipython",
    "version": 3
   },
   "file_extension": ".py",
   "mimetype": "text/x-python",
   "name": "python",
   "nbconvert_exporter": "python",
   "pygments_lexer": "ipython3",
   "version": "3.10.8"
  }
 },
 "nbformat": 4,
 "nbformat_minor": 5
}
